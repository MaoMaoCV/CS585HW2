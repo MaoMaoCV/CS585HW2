{
 "cells": [
  {
   "cell_type": "code",
   "execution_count": 1,
   "metadata": {},
   "outputs": [],
   "source": [
    "import cv2\n",
    "import numpy as np\n",
    "import sys\n"
   ]
  },
  {
   "cell_type": "markdown",
   "metadata": {},
   "source": [
    "## Utilities"
   ]
  },
  {
   "cell_type": "code",
   "execution_count": 2,
   "metadata": {},
   "outputs": [],
   "source": [
    "def frame_differencing(prev_frame, curr_frame):\n",
    "    \"\"\"Calculate frame difference.\"\"\"\n",
    "    diff = cv2.absdiff(curr_frame, prev_frame)\n",
    "    gray = cv2.cvtColor(diff, cv2.COLOR_BGR2GRAY)\n",
    "    _, thresh = cv2.threshold(gray, 30, 255, cv2.THRESH_BINARY)\n",
    "    return thresh\n",
    "\n",
    "def skin_detection(frame):\n",
    "    \"\"\"Detect skin in the given frame.\"\"\"\n",
    "    hsv = cv2.cvtColor(frame, cv2.COLOR_BGR2HSV)\n",
    "    lower_skin = np.array([0, 40, 60], dtype=np.uint8)\n",
    "    upper_skin = np.array([20, 255, 255], dtype=np.uint8)\n",
    "    mask = cv2.inRange(hsv, lower_skin, upper_skin)\n",
    "    return mask\n",
    "\n",
    "def motion_energy(frames):\n",
    "    \"\"\"Calculate motion energy across a list of frames.\"\"\"\n",
    "    motion_history = np.zeros(frames[0].shape[:2], dtype=np.float32)\n",
    "    for frame in frames:\n",
    "        motion_history = cv2.motempl.updateMotionHistory(frame, motion_history, 1, 5)\n",
    "    return motion_history\n",
    "\n",
    "def accumulate_motion_energy(frames):\n",
    "    \"\"\"Accumulate motion energy from a list of binary difference frames.\"\"\"\n",
    "    # Assuming frames are binary (0 or 255), where 255 indicates motion\n",
    "    # Initialize an accumulator frame with zeros\n",
    "    acc = np.zeros_like(frames[0], dtype=np.float32)\n",
    "    \n",
    "    # Accumulate frames by adding\n",
    "    for frame in frames:\n",
    "        # Convert frame to float to prevent data type overflow\n",
    "        acc = acc + frame.astype(np.float32)\n",
    "    \n",
    "    # Normalize the accumulated image to the range [0, 255]\n",
    "    acc = np.clip((acc / len(frames)), 0, 255).astype(np.uint8)\n",
    "    \n",
    "    return acc\n"
   ]
  },
  {
   "cell_type": "markdown",
   "metadata": {},
   "source": [
    "## Main"
   ]
  },
  {
   "cell_type": "code",
   "execution_count": 3,
   "metadata": {},
   "outputs": [],
   "source": [
    "\n",
    "def main():\n",
    "    cap = cv2.VideoCapture(0)  # Use 0 for webcam\n",
    "\n",
    "    if not cap.isOpened():\n",
    "        print(\"Cannot open camera\")\n",
    "        sys.exit()\n",
    "\n",
    "    ret, prev_frame = cap.read()\n",
    "    if not ret:\n",
    "        print(\"Can't receive frame (stream end?). Exiting ...\")\n",
    "        return\n",
    "\n",
    "    prev_frame = cv2.flip(prev_frame, 1)  # Flip frame\n",
    "    frames_for_motion = []\n",
    "\n",
    "    while True:\n",
    "        ret, frame = cap.read()\n",
    "        if not ret:\n",
    "            break\n",
    "\n",
    "        frame = cv2.flip(frame, 1)  # Flip frame for a mirror effect\n",
    "        frame_diff = frame_differencing(prev_frame, frame)\n",
    "        skin_mask = skin_detection(frame)\n",
    "        cv2.imshow('Skin Mask', skin_mask)\n",
    "        # Combine frame difference and skin detection for better results\n",
    "        combined = cv2.bitwise_and(frame_diff, frame_diff, mask=skin_mask)\n",
    "\n",
    "        cv2.imshow('Frame Difference', combined)\n",
    "\n",
    "        frames_for_motion.append(combined)\n",
    "        if len(frames_for_motion) > 5:  # Keeping the last 5 frames\n",
    "            frames_for_motion.pop(0)\n",
    "\n",
    "        # Calculate and visualize accumulated motion energy (optional)\n",
    "        if len(frames_for_motion) >= 5:  # Ensure there are enough frames\n",
    "            accumulated_me = accumulate_motion_energy(frames_for_motion)\n",
    "            cv2.imshow('Accumulated Motion Energy', accumulated_me)\n",
    "\n",
    "\n",
    "        if cv2.waitKey(1) & 0xFF == ord('q'):\n",
    "            break\n",
    "\n",
    "        prev_frame = frame\n",
    "\n",
    "    cap.release()\n",
    "    cv2.destroyAllWindows()\n",
    "\n",
    "if __name__ == \"__main__\":\n",
    "    main()\n"
   ]
  },
  {
   "cell_type": "code",
   "execution_count": null,
   "metadata": {},
   "outputs": [],
   "source": []
  }
 ],
 "metadata": {
  "kernelspec": {
   "display_name": "base",
   "language": "python",
   "name": "python3"
  },
  "language_info": {
   "codemirror_mode": {
    "name": "ipython",
    "version": 3
   },
   "file_extension": ".py",
   "mimetype": "text/x-python",
   "name": "python",
   "nbconvert_exporter": "python",
   "pygments_lexer": "ipython3",
   "version": "3.11.5"
  }
 },
 "nbformat": 4,
 "nbformat_minor": 2
}
